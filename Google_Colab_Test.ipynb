{
  "nbformat": 4,
  "nbformat_minor": 0,
  "metadata": {
    "colab": {
      "provenance": [],
      "authorship_tag": "ABX9TyNXWCWHlc57Y+QjkRRJOEYf",
      "include_colab_link": true
    },
    "kernelspec": {
      "name": "python3",
      "display_name": "Python 3"
    },
    "language_info": {
      "name": "python"
    }
  },
  "cells": [
    {
      "cell_type": "markdown",
      "metadata": {
        "id": "view-in-github",
        "colab_type": "text"
      },
      "source": [
        "<a href=\"https://colab.research.google.com/github/chris338/GitHub/blob/master/Google_Colab_Test.ipynb\" target=\"_parent\"><img src=\"https://colab.research.google.com/assets/colab-badge.svg\" alt=\"Open In Colab\"/></a>"
      ]
    },
    {
      "cell_type": "code",
      "execution_count": 1,
      "metadata": {
        "colab": {
          "base_uri": "https://localhost:8080/"
        },
        "id": "rNiu2wrWs38h",
        "outputId": "a9df7565-1115-4709-9c64-47bbbb22dec3"
      },
      "outputs": [
        {
          "output_type": "stream",
          "name": "stdout",
          "text": [
            "2499950000\n",
            "0.064307 secs 0.099846 MByte\n"
          ]
        }
      ],
      "source": [
        "import math\n",
        "import time\n",
        "import resource\n",
        "import sys\n",
        "\n",
        "time_start = time.perf_counter()\n",
        "\n",
        "sys.set_int_max_str_digits(0)\n",
        "\n",
        "def factorial(n):\n",
        "   return math.factorial(n)\n",
        "\n",
        "test_list = list(range(1, 100000))\n",
        "result = []\n",
        "i=0\n",
        "while i < len(test_list) :\n",
        "    if test_list[i] % 2 == 0:\n",
        "      result.append(test_list[i]) \n",
        "    i = i + 1 \n",
        "print(sum(result))\n",
        "\n",
        "time_elapsed = (time.perf_counter() - time_start)\n",
        "memMb=resource.getrusage(resource.RUSAGE_SELF).ru_maxrss/1024.0/1024.0\n",
        "\n",
        "print (\"%f secs %f MByte\" % (time_elapsed,memMb))"
      ]
    },
    {
      "cell_type": "code",
      "source": [],
      "metadata": {
        "id": "ZpkNClSDtOHb"
      },
      "execution_count": null,
      "outputs": []
    }
  ]
}